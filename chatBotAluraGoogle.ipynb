{
  "nbformat": 4,
  "nbformat_minor": 0,
  "metadata": {
    "colab": {
      "provenance": [],
      "authorship_tag": "ABX9TyMwuRYTDyg/9via2uoYuJEv",
      "include_colab_link": true
    },
    "kernelspec": {
      "name": "python3",
      "display_name": "Python 3"
    },
    "language_info": {
      "name": "python"
    }
  },
  "cells": [
    {
      "cell_type": "markdown",
      "metadata": {
        "id": "view-in-github",
        "colab_type": "text"
      },
      "source": [
        "<a href=\"https://colab.research.google.com/github/thiagopaivanascimento/chatBotAluraGoogle/blob/main/chatBotAluraGoogle.ipynb\" target=\"_parent\"><img src=\"https://colab.research.google.com/assets/colab-badge.svg\" alt=\"Open In Colab\"/></a>"
      ]
    },
    {
      "cell_type": "markdown",
      "source": [
        "Baixar o pacote Google Generative IA"
      ],
      "metadata": {
        "id": "XNfABDUHAZ4z"
      }
    },
    {
      "cell_type": "code",
      "execution_count": 23,
      "metadata": {
        "id": "U7Vs01JJk-au"
      },
      "outputs": [],
      "source": [
        "pip install -q U google-generativeai"
      ]
    },
    {
      "cell_type": "markdown",
      "source": [
        "Conectar com Google"
      ],
      "metadata": {
        "id": "gKWdUKPnEHMV"
      }
    },
    {
      "cell_type": "code",
      "source": [
        "import google.generativeai as genai\n",
        "from google.colab import userdata\n",
        "google_api_key = userdata.get(\"SECRET_KEY\")\n",
        "\n",
        "genai.configure(api_key=google_api_key)\n",
        "#model = genai.GenerativeModel('gemini-pro')"
      ],
      "metadata": {
        "id": "pvvbLkNmAHU-"
      },
      "execution_count": 25,
      "outputs": []
    },
    {
      "cell_type": "code",
      "source": [],
      "metadata": {
        "id": "01WooNtUELUW"
      },
      "execution_count": null,
      "outputs": []
    },
    {
      "cell_type": "markdown",
      "source": [
        "Listar os modelos"
      ],
      "metadata": {
        "id": "a1jSyZhLEDTb"
      }
    },
    {
      "cell_type": "code",
      "source": [
        "for m in genai.list_models():\n",
        "  if 'generateContent' in m.supported_generation_methods:\n",
        "    print(m.name)"
      ],
      "metadata": {
        "colab": {
          "base_uri": "https://localhost:8080/",
          "height": 146
        },
        "id": "IOA-aIozB3_0",
        "outputId": "1c941234-47f6-4fe1-d0ca-49e1880c0b32"
      },
      "execution_count": 9,
      "outputs": [
        {
          "output_type": "stream",
          "name": "stdout",
          "text": [
            "models/gemini-1.0-pro\n",
            "models/gemini-1.0-pro-001\n",
            "models/gemini-1.0-pro-latest\n",
            "models/gemini-1.0-pro-vision-latest\n",
            "models/gemini-1.5-pro-latest\n",
            "models/gemini-pro\n",
            "models/gemini-pro-vision\n"
          ]
        }
      ]
    },
    {
      "cell_type": "markdown",
      "source": [
        "Configurações gerais"
      ],
      "metadata": {
        "id": "XjT77mSiEALW"
      }
    },
    {
      "cell_type": "code",
      "source": [
        "generation_config = {\n",
        "    \"candidate_count\": 1,\n",
        "    \"temperature\": 0.5,\n",
        "    #\"top_p\":\n",
        "}"
      ],
      "metadata": {
        "id": "QLjfbLkqCaPQ"
      },
      "execution_count": 10,
      "outputs": []
    },
    {
      "cell_type": "markdown",
      "source": [
        "Configurar a segurança"
      ],
      "metadata": {
        "id": "Ukf5rOlHD7Kn"
      }
    },
    {
      "cell_type": "code",
      "source": [
        "safety_settings = {\n",
        "    \"HARASSMENT\": \"BLOCK_NONE\",\n",
        "    \"HATE\": \"BLOCK_NONE\",\n",
        "    \"SEXUAL\": \"BLOCK_NONE\",\n",
        "    \"DANGEROUS\": \"BLOCK_NONE\"\n",
        "}"
      ],
      "metadata": {
        "id": "7_tpDsFUC9V1"
      },
      "execution_count": 15,
      "outputs": []
    },
    {
      "cell_type": "markdown",
      "source": [
        "Iniciando o modelo"
      ],
      "metadata": {
        "id": "6pObThBxEbav"
      }
    },
    {
      "cell_type": "code",
      "source": [
        "model = genai.GenerativeModel(model_name=\"gemini-1.0-pro\",\n",
        "                              generation_config=generation_config,\n",
        "                              safety_settings=safety_settings)"
      ],
      "metadata": {
        "id": "THJlrGM7EMYL"
      },
      "execution_count": 16,
      "outputs": []
    },
    {
      "cell_type": "code",
      "source": [
        "response = model.generate_content(\"Vamos aprender conteúdo sobre IA. Me dê sugestões\")\n",
        "print(response.text)"
      ],
      "metadata": {
        "colab": {
          "base_uri": "https://localhost:8080/",
          "height": 0
        },
        "collapsed": true,
        "id": "jQxuAu9RFsrt",
        "outputId": "a6d8f45b-7297-449c-aa52-016097c71c6d"
      },
      "execution_count": 17,
      "outputs": [
        {
          "output_type": "stream",
          "name": "stdout",
          "text": [
            "**Conceitos Fundamentais**\n",
            "\n",
            "* O que é Inteligência Artificial (IA)?\n",
            "* Tipos de IA: Máquina de Aprendizado, Aprendizado Profundo, Aprendizado de Reforço\n",
            "* Algoritmos de IA comuns (por exemplo, regressão, classificação, agrupamento)\n",
            "* Arquiteturas de rede neural (por exemplo, CNNs, RNNs, Transformers)\n",
            "\n",
            "**Aplicações da IA**\n",
            "\n",
            "* Visão computacional (por exemplo, reconhecimento de imagem, reconhecimento facial)\n",
            "* Processamento de linguagem natural (por exemplo, tradução automática, geração de texto)\n",
            "* Robótica e automação\n",
            "* Cuidados de saúde (por exemplo, diagnóstico de doenças, descoberta de medicamentos)\n",
            "* Finanças (por exemplo, detecção de fraudes, previsão de mercado)\n",
            "\n",
            "**Ética e Implicações Sociais da IA**\n",
            "\n",
            "* Preocupações éticas (por exemplo, viés, privacidade, desemprego)\n",
            "* Implicações sociais (por exemplo, impacto no mercado de trabalho, desigualdade)\n",
            "* Regulamentos e políticas para IA\n",
            "\n",
            "**Aprendizado de Máquina**\n",
            "\n",
            "* Conceitos de aprendizado de máquina (por exemplo, dados de treinamento, modelos, métricas de avaliação)\n",
            "* Técnicas de aprendizado de máquina supervisionado, não supervisionado e por reforço\n",
            "* Algoritmos de aprendizado de máquina (por exemplo, árvores de decisão, SVM, redes neurais)\n",
            "\n",
            "**Aprendizado Profundo**\n",
            "\n",
            "* O que é aprendizado profundo?\n",
            "* Arquiteturas de rede neural profundas (por exemplo, CNNs, RNNs, Transformers)\n",
            "* Treinamento e otimização de redes neurais profundas\n",
            "\n",
            "**Recursos Adicionais**\n",
            "\n",
            "* Cursos online (por exemplo, Coursera, edX, Udacity)\n",
            "* Livros e artigos (por exemplo, \"Aprendizado de Máquina\" por Ethem Alpaydin, \"Aprendizado Profundo\" por Ian Goodfellow et al.)\n",
            "* Comunidades e fóruns online (por exemplo, Stack Overflow, Reddit)\n",
            "* Tutoriais e documentação (por exemplo, TensorFlow, PyTorch)\n"
          ]
        }
      ]
    },
    {
      "cell_type": "code",
      "source": [
        "chat = model.start_chat(history=[])"
      ],
      "metadata": {
        "id": "usq9ehFFFBFO"
      },
      "execution_count": 18,
      "outputs": []
    },
    {
      "cell_type": "code",
      "source": [
        "prompt = input(\"Esperando prompt: \")\n",
        "\n",
        "while prompt != \"fim\":\n",
        "  response = chat.send_message(prompt)\n",
        "  print(\"Resposta: \", response.text, \"\\n\")\n",
        "  prompt = input(\"Esperando prompt: \")"
      ],
      "metadata": {
        "colab": {
          "base_uri": "https://localhost:8080/",
          "height": 0
        },
        "collapsed": true,
        "id": "in8DLLG_Hy_s",
        "outputId": "e0a5326f-c682-4b0d-ca0c-53c548b675ee"
      },
      "execution_count": 19,
      "outputs": [
        {
          "name": "stdout",
          "output_type": "stream",
          "text": [
            "Esperando prompt: Qual é capital de França\n",
            "Resposta:  Paris \n",
            "\n",
            "Esperando prompt: Qual é a comida típica deste país?\n",
            "Resposta:  **Pratos principais:**\n",
            "\n",
            "* Coq au vin (galo ao vinho)\n",
            "* Boeuf bourguignon (ensopado de carne à moda da Borgonha)\n",
            "* Cassoulet (ensopado de feijão branco com carne)\n",
            "* Escargot (caracóis)\n",
            "* Ratatouille (ensopado de legumes)\n",
            "* Crêpes (panquecas finas)\n",
            "\n",
            "**Sobremesas:**\n",
            "\n",
            "* Crème brûlée (creme queimada)\n",
            "* Macarons (biscoitos coloridos)\n",
            "* Éclair (massa folhada recheada com creme)\n",
            "* Mille-feuille (massa folhada com creme)\n",
            "* Tarte Tatin (torta de maçã invertida)\n",
            "\n",
            "**Queijos:**\n",
            "\n",
            "* Brie\n",
            "* Camembert\n",
            "* Roquefort\n",
            "* Comté\n",
            "* Chèvre (queijo de cabra)\n",
            "\n",
            "**Bebidas:**\n",
            "\n",
            "* Vinho (especialmente da região de Bordéus, Borgonha e Champagne)\n",
            "* Pastis (licor de anis)\n",
            "* Cidra (bebida alcoólica feita de maçãs)\n",
            "* Café (especialmente o café au lait) \n",
            "\n",
            "Esperando prompt: Terá um evento nesse país esse ano?\n",
            "Resposta:  Sim, haverá vários eventos na França em 2023, incluindo:\n",
            "\n",
            "* **Roland-Garros (28 de maio a 11 de junho):** Um dos quatro torneios de Grand Slam de tênis, realizado em Paris.\n",
            "* **Tour de France (1 de julho a 23 de julho):** Uma das corridas de ciclismo mais famosas do mundo, que percorre várias cidades e regiões da França.\n",
            "* **Festival de Avignon (7 a 30 de julho):** Um dos maiores festivais de teatro do mundo, realizado na cidade de Avignon.\n",
            "* **Festival de Cannes (16 a 27 de maio):** Um dos festivais de cinema mais prestigiados do mundo, realizado na cidade de Cannes.\n",
            "* **Paris Fashion Week (26 de setembro a 4 de outubro):** Um dos quatro principais eventos de moda do mundo, realizado em Paris.\n",
            "\n",
            "Além desses grandes eventos, há também muitos outros festivais, exposições e eventos culturais menores acontecendo na França ao longo do ano. \n",
            "\n",
            "Esperando prompt: Digo em 2024\n",
            "Resposta:  Aqui estão alguns eventos importantes que acontecerão na França em 2024:\n",
            "\n",
            "* **Jogos Olímpicos de Verão de 2024 (26 de julho a 11 de agosto):** Os Jogos Olímpicos serão realizados em Paris e em várias outras cidades da França.\n",
            "* **Paralympíadas de Verão de 2024 (28 de agosto a 8 de setembro):** As Paralimpíadas serão realizadas em Paris e em várias outras cidades da França.\n",
            "* **Copa do Mundo de Rúgbi de 2023 (8 de setembro a 28 de outubro):** A Copa do Mundo de Rúgbi será realizada na França, com jogos em várias cidades.\n",
            "* **Festival de Cannes (14 a 25 de maio):** Um dos festivais de cinema mais prestigiados do mundo, realizado na cidade de Cannes.\n",
            "* **Paris Fashion Week (23 de setembro a 1 de outubro):** Um dos quatro principais eventos de moda do mundo, realizado em Paris.\n",
            "\n",
            "Além desses grandes eventos, há também muitos outros festivais, exposições e eventos culturais menores acontecendo na França ao longo do ano. \n",
            "\n",
            "Esperando prompt: fim\n"
          ]
        }
      ]
    },
    {
      "cell_type": "code",
      "source": [
        "chat"
      ],
      "metadata": {
        "colab": {
          "base_uri": "https://localhost:8080/"
        },
        "id": "OMfJr0GiJ3sY",
        "outputId": "ddbe3d64-6f21-454c-b439-6cbe36e4a9c5"
      },
      "execution_count": 20,
      "outputs": [
        {
          "output_type": "execute_result",
          "data": {
            "text/plain": [
              "ChatSession(\n",
              "    model=genai.GenerativeModel(\n",
              "        model_name='models/gemini-1.0-pro',\n",
              "        generation_config={'candidate_count': 1, 'temperature': 0.5},\n",
              "        safety_settings={<HarmCategory.HARM_CATEGORY_HARASSMENT: 7>: <HarmBlockThreshold.BLOCK_NONE: 4>, <HarmCategory.HARM_CATEGORY_HATE_SPEECH: 8>: <HarmBlockThreshold.BLOCK_NONE: 4>, <HarmCategory.HARM_CATEGORY_SEXUALLY_EXPLICIT: 9>: <HarmBlockThreshold.BLOCK_NONE: 4>, <HarmCategory.HARM_CATEGORY_DANGEROUS_CONTENT: 10>: <HarmBlockThreshold.BLOCK_NONE: 4>},\n",
              "        tools=None,\n",
              "        system_instruction=None,\n",
              "    ),\n",
              "    history=[glm.Content({'parts': [{'text': 'Qual é capital de França'}], 'role': 'user'}), glm.Content({'parts': [{'text': 'Paris'}], 'role': 'model'}), glm.Content({'parts': [{'text': 'Qual é a com...a deste país?'}], 'role': 'user'}), glm.Content({'parts': [{'text': '**Pratos pri...café au lait)'}], 'role': 'model'}), glm.Content({'parts': [{'text': 'Terá um even...aís esse ano?'}], 'role': 'user'}), glm.Content({'parts': [{'text': 'Sim, haverá ...longo do ano.'}], 'role': 'model'}), glm.Content({'parts': [{'text': 'Digo em 2024'}], 'role': 'user'}), glm.Content({'parts': [{'text': 'Aqui estão a...longo do ano.'}], 'role': 'model'})]\n",
              ")"
            ]
          },
          "metadata": {},
          "execution_count": 20
        }
      ]
    },
    {
      "cell_type": "code",
      "source": [
        "chat.history"
      ],
      "metadata": {
        "colab": {
          "base_uri": "https://localhost:8080/"
        },
        "id": "dfGTvYY8J4lY",
        "outputId": "e29b905f-0e7e-4dfd-8169-c0003dbdd0eb"
      },
      "execution_count": 21,
      "outputs": [
        {
          "output_type": "execute_result",
          "data": {
            "text/plain": [
              "[parts {\n",
              "   text: \"Qual \\303\\251 capital de Fran\\303\\247a\"\n",
              " }\n",
              " role: \"user\",\n",
              " parts {\n",
              "   text: \"Paris\"\n",
              " }\n",
              " role: \"model\",\n",
              " parts {\n",
              "   text: \"Qual \\303\\251 a comida t\\303\\255pica deste pa\\303\\255s?\"\n",
              " }\n",
              " role: \"user\",\n",
              " parts {\n",
              "   text: \"**Pratos principais:**\\n\\n* Coq au vin (galo ao vinho)\\n* Boeuf bourguignon (ensopado de carne \\303\\240 moda da Borgonha)\\n* Cassoulet (ensopado de feij\\303\\243o branco com carne)\\n* Escargot (carac\\303\\263is)\\n* Ratatouille (ensopado de legumes)\\n* Cr\\303\\252pes (panquecas finas)\\n\\n**Sobremesas:**\\n\\n* Cr\\303\\250me br\\303\\273l\\303\\251e (creme queimada)\\n* Macarons (biscoitos coloridos)\\n* \\303\\211clair (massa folhada recheada com creme)\\n* Mille-feuille (massa folhada com creme)\\n* Tarte Tatin (torta de ma\\303\\247\\303\\243 invertida)\\n\\n**Queijos:**\\n\\n* Brie\\n* Camembert\\n* Roquefort\\n* Comt\\303\\251\\n* Ch\\303\\250vre (queijo de cabra)\\n\\n**Bebidas:**\\n\\n* Vinho (especialmente da regi\\303\\243o de Bord\\303\\251us, Borgonha e Champagne)\\n* Pastis (licor de anis)\\n* Cidra (bebida alco\\303\\263lica feita de ma\\303\\247\\303\\243s)\\n* Caf\\303\\251 (especialmente o caf\\303\\251 au lait)\"\n",
              " }\n",
              " role: \"model\",\n",
              " parts {\n",
              "   text: \"Ter\\303\\241 um evento nesse pa\\303\\255s esse ano?\"\n",
              " }\n",
              " role: \"user\",\n",
              " parts {\n",
              "   text: \"Sim, haver\\303\\241 v\\303\\241rios eventos na Fran\\303\\247a em 2023, incluindo:\\n\\n* **Roland-Garros (28 de maio a 11 de junho):** Um dos quatro torneios de Grand Slam de t\\303\\252nis, realizado em Paris.\\n* **Tour de France (1 de julho a 23 de julho):** Uma das corridas de ciclismo mais famosas do mundo, que percorre v\\303\\241rias cidades e regi\\303\\265es da Fran\\303\\247a.\\n* **Festival de Avignon (7 a 30 de julho):** Um dos maiores festivais de teatro do mundo, realizado na cidade de Avignon.\\n* **Festival de Cannes (16 a 27 de maio):** Um dos festivais de cinema mais prestigiados do mundo, realizado na cidade de Cannes.\\n* **Paris Fashion Week (26 de setembro a 4 de outubro):** Um dos quatro principais eventos de moda do mundo, realizado em Paris.\\n\\nAl\\303\\251m desses grandes eventos, h\\303\\241 tamb\\303\\251m muitos outros festivais, exposi\\303\\247\\303\\265es e eventos culturais menores acontecendo na Fran\\303\\247a ao longo do ano.\"\n",
              " }\n",
              " role: \"model\",\n",
              " parts {\n",
              "   text: \"Digo em 2024\"\n",
              " }\n",
              " role: \"user\",\n",
              " parts {\n",
              "   text: \"Aqui est\\303\\243o alguns eventos importantes que acontecer\\303\\243o na Fran\\303\\247a em 2024:\\n\\n* **Jogos Ol\\303\\255mpicos de Ver\\303\\243o de 2024 (26 de julho a 11 de agosto):** Os Jogos Ol\\303\\255mpicos ser\\303\\243o realizados em Paris e em v\\303\\241rias outras cidades da Fran\\303\\247a.\\n* **Paralymp\\303\\255adas de Ver\\303\\243o de 2024 (28 de agosto a 8 de setembro):** As Paralimp\\303\\255adas ser\\303\\243o realizadas em Paris e em v\\303\\241rias outras cidades da Fran\\303\\247a.\\n* **Copa do Mundo de R\\303\\272gbi de 2023 (8 de setembro a 28 de outubro):** A Copa do Mundo de R\\303\\272gbi ser\\303\\241 realizada na Fran\\303\\247a, com jogos em v\\303\\241rias cidades.\\n* **Festival de Cannes (14 a 25 de maio):** Um dos festivais de cinema mais prestigiados do mundo, realizado na cidade de Cannes.\\n* **Paris Fashion Week (23 de setembro a 1 de outubro):** Um dos quatro principais eventos de moda do mundo, realizado em Paris.\\n\\nAl\\303\\251m desses grandes eventos, h\\303\\241 tamb\\303\\251m muitos outros festivais, exposi\\303\\247\\303\\265es e eventos culturais menores acontecendo na Fran\\303\\247a ao longo do ano.\"\n",
              " }\n",
              " role: \"model\"]"
            ]
          },
          "metadata": {},
          "execution_count": 21
        }
      ]
    }
  ]
}